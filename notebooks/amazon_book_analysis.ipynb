{
 "cells": [
  {
   "cell_type": "markdown",
   "id": "573e7983",
   "metadata": {},
   "source": [
    "# Amazon Book Review Analysis\n",
    "## Capstone Project Notebook\n",
    "- **Sector**: Retail\n",
    "- **Problem**: Predict customer satisfaction trends for Amazon book reviews.\n",
    "- **Dataset**: `ratings_Books_cleaned_200K.csv` (198,117 rows, 5 columns).\n",
    "\n",
    "This notebook documents the analysis process, including data cleaning, EDA, modeling, and evaluation."
   ]
  },
  {
   "cell_type": "code",
   "execution_count": 1,
   "id": "4ad3b4f1",
   "metadata": {},
   "outputs": [],
   "source": [
    "# Import libraries\n",
    "import pandas as pd\n",
    "import numpy as np\n",
    "import matplotlib.pyplot as plt\n",
    "from sklearn.model_selection import train_test_split\n",
    "from sklearn.linear_model import LogisticRegression\n",
    "from sklearn.metrics import accuracy_score, classification_report, roc_auc_score\n",
    "from sklearn.utils.class_weight import compute_class_weight\n",
    "import os\n",
    "\n",
    "# Set working directory\n",
    "os.chdir(r'C:\\Users\\munez\\OneDrive\\Documents\\AUCA\\Big-Data\\Retail_Amazon_Project')"
   ]
  },
  {
   "cell_type": "code",
   "execution_count": 2,
   "id": "301f6a8d",
   "metadata": {},
   "outputs": [],
   "source": [
    "# Function to load and clean data\n",
    "def load_and_clean_data(file_path):\n",
    "    df = pd.read_csv(file_path)\n",
    "    df.columns = ['item', 'user', 'rating', 'timestamp', 'reviewTime']\n",
    "    df['reviewTime'] = pd.to_datetime(df['timestamp'], unit='s')\n",
    "    df = df.dropna().drop_duplicates()\n",
    "    return df\n",
    "\n",
    "# Load cleaned dataset\n",
    "df = load_and_clean_data('data/ratings_Books_cleaned_200K.csv')"
   ]
  },
  {
   "cell_type": "code",
   "execution_count": 3,
   "id": "9874df0f",
   "metadata": {},
   "outputs": [
    {
     "name": "stdout",
     "output_type": "stream",
     "text": [
      "Descriptive Statistics:\n",
      "              rating     timestamp                     reviewTime\n",
      "count  198117.000000  1.981170e+05                         198117\n",
      "mean        4.361034  1.351103e+09  2012-10-24 18:15:54.744923648\n",
      "min         1.000000  8.710848e+08            1997-08-09 00:00:00\n",
      "25%         4.000000  1.325030e+09            2011-12-28 00:00:00\n",
      "50%         5.000000  1.400717e+09            2014-05-22 00:00:00\n",
      "75%         5.000000  1.446163e+09            2015-10-30 00:00:00\n",
      "max         5.000000  1.524701e+09            2018-04-26 00:00:00\n",
      "std         1.090925  1.480994e+08                            NaN\n",
      "EDA visualizations saved.\n"
     ]
    }
   ],
   "source": [
    "# Function for EDA\n",
    "def perform_eda(df):\n",
    "    print(\"Descriptive Statistics:\")\n",
    "    print(df.describe())\n",
    "    # Rating Distribution\n",
    "    plt.figure(figsize=(8, 5))\n",
    "    df['rating'].hist(bins=5, color='skyblue', edgecolor='black')\n",
    "    plt.title('Distribution of Book Ratings')\n",
    "    plt.xlabel('Rating (1-5)')\n",
    "    plt.ylabel('Count')\n",
    "    plt.grid(True, alpha=0.3)\n",
    "    plt.savefig('data/rating_distribution.png')\n",
    "    plt.close()\n",
    "    # Rating Over Time\n",
    "    plt.figure(figsize=(10, 6))\n",
    "    df.groupby(df['reviewTime'].dt.to_period('M'))['rating'].mean().plot(color='green')\n",
    "    plt.title('Average Rating Over Time (Monthly)')\n",
    "    plt.xlabel('Time')\n",
    "    plt.ylabel('Average Rating')\n",
    "    plt.grid(True, alpha=0.3)\n",
    "    plt.xticks(rotation=45)\n",
    "    plt.savefig('data/rating_over_time.png')\n",
    "    plt.close()\n",
    "    print(\"EDA visualizations saved.\")\n",
    "\n",
    "# Perform EDA\n",
    "perform_eda(df)"
   ]
  },
  {
   "cell_type": "code",
   "execution_count": 4,
   "id": "753f54a3",
   "metadata": {},
   "outputs": [
    {
     "name": "stdout",
     "output_type": "stream",
     "text": [
      "Class weights: {0: np.float64(3.0341368537123254), 1: np.float64(0.598652919882274)}\n",
      "Model Accuracy: 0.83\n",
      "\n",
      "Classification Report:\n",
      "               precision    recall  f1-score   support\n",
      "\n",
      "Not Satisfied       0.00      0.00      0.00      6613\n",
      "    Satisfied       0.83      1.00      0.91     33011\n",
      "\n",
      "     accuracy                           0.83     39624\n",
      "    macro avg       0.42      0.50      0.45     39624\n",
      " weighted avg       0.69      0.83      0.76     39624\n",
      "\n",
      "ROC-AUC Score: 0.57\n",
      "Model predictions saved to data/model_predictions.csv\n"
     ]
    },
    {
     "name": "stderr",
     "output_type": "stream",
     "text": [
      "c:\\Users\\munez\\AppData\\Local\\Programs\\Python\\Python313\\Lib\\site-packages\\sklearn\\metrics\\_classification.py:1731: UndefinedMetricWarning: Precision is ill-defined and being set to 0.0 in labels with no predicted samples. Use `zero_division` parameter to control this behavior.\n",
      "  _warn_prf(average, modifier, f\"{metric.capitalize()} is\", result.shape[0])\n",
      "c:\\Users\\munez\\AppData\\Local\\Programs\\Python\\Python313\\Lib\\site-packages\\sklearn\\metrics\\_classification.py:1731: UndefinedMetricWarning: Precision is ill-defined and being set to 0.0 in labels with no predicted samples. Use `zero_division` parameter to control this behavior.\n",
      "  _warn_prf(average, modifier, f\"{metric.capitalize()} is\", result.shape[0])\n",
      "c:\\Users\\munez\\AppData\\Local\\Programs\\Python\\Python313\\Lib\\site-packages\\sklearn\\metrics\\_classification.py:1731: UndefinedMetricWarning: Precision is ill-defined and being set to 0.0 in labels with no predicted samples. Use `zero_division` parameter to control this behavior.\n",
      "  _warn_prf(average, modifier, f\"{metric.capitalize()} is\", result.shape[0])\n"
     ]
    }
   ],
   "source": [
    "\n",
    "# Function for modeling\n",
    "def train_and_evaluate_model(df):\n",
    "    df['satisfied'] = np.where(df['rating'] >= 4, 1, 0)\n",
    "    X = df[['timestamp']]\n",
    "    y = df['satisfied']\n",
    "    class_weights = compute_class_weight('balanced', classes=np.array([0, 1]), y=y)\n",
    "    weight_dict = {0: class_weights[0], 1: class_weights[1]}\n",
    "    print(f\"Class weights: {weight_dict}\")\n",
    "    X_train, X_test, y_train, y_test = train_test_split(X, y, test_size=0.2, random_state=42)\n",
    "    model = LogisticRegression(max_iter=1000, class_weight=weight_dict)\n",
    "    model.fit(X_train, y_train)\n",
    "    y_pred = model.predict(X_test)\n",
    "    accuracy = accuracy_score(y_test, y_pred)\n",
    "    print(f\"Model Accuracy: {accuracy:.2f}\")\n",
    "    print(\"\\nClassification Report:\")\n",
    "    print(classification_report(y_test, y_pred, target_names=['Not Satisfied', 'Satisfied']))\n",
    "    y_pred_prob = model.predict_proba(X_test)[:, 1]\n",
    "    roc_auc = roc_auc_score(y_test, y_pred_prob)\n",
    "    print(f\"ROC-AUC Score: {roc_auc:.2f}\")\n",
    "    df_test = X_test.copy()\n",
    "    df_test['actual'] = y_test\n",
    "    df_test['predicted'] = y_pred\n",
    "    df_test['probability'] = y_pred_prob\n",
    "    df_test.to_csv('data/model_predictions.csv', index=False)\n",
    "    print(\"Model predictions saved to data/model_predictions.csv\")\n",
    "\n",
    "# Train and evaluate model\n",
    "train_and_evaluate_model(df)"
   ]
  },
  {
   "cell_type": "code",
   "execution_count": 5,
   "id": "b634e837",
   "metadata": {},
   "outputs": [
    {
     "name": "stdout",
     "output_type": "stream",
     "text": [
      "Innovative Class weights: {0: np.float64(3.0341368537123254), 1: np.float64(0.598652919882274)}\n",
      "Innovative Model Accuracy: 0.67\n",
      "\n",
      "Innovative Classification Report:\n",
      "               precision    recall  f1-score   support\n",
      "\n",
      "Not Satisfied       0.21      0.35      0.26      6613\n",
      "    Satisfied       0.85      0.74      0.79     33011\n",
      "\n",
      "     accuracy                           0.67     39624\n",
      "    macro avg       0.53      0.54      0.52     39624\n",
      " weighted avg       0.74      0.67      0.70     39624\n",
      "\n",
      "Innovative ROC-AUC Score: 0.55\n",
      "Innovative model predictions saved to data/model_predictions_innovative.csv\n"
     ]
    }
   ],
   "source": [
    "# Function for innovation: Add user review count and use Random Forest\n",
    "def innovate_model(df):\n",
    "    # Aggregate user review count\n",
    "    user_counts = df.groupby('user').size().reset_index(name='user_review_count')\n",
    "    df = df.merge(user_counts, on='user', how='left')\n",
    "    \n",
    "    # Feature Engineering\n",
    "    df['satisfied'] = np.where(df['rating'] >= 4, 1, 0)\n",
    "    X = df[['timestamp', 'user_review_count']]  # New feature\n",
    "    y = df['satisfied']\n",
    "    \n",
    "    # Compute class weights\n",
    "    class_weights = compute_class_weight('balanced', classes=np.array([0, 1]), y=y)\n",
    "    weight_dict = {0: class_weights[0], 1: class_weights[1]}\n",
    "    print(f\"Innovative Class weights: {weight_dict}\")\n",
    "    \n",
    "    # Split data\n",
    "    X_train, X_test, y_train, y_test = train_test_split(X, y, test_size=0.2, random_state=42)\n",
    "    \n",
    "    # Train Random Forest\n",
    "    from sklearn.ensemble import RandomForestClassifier\n",
    "    model = RandomForestClassifier(n_estimators=100, class_weight=weight_dict, random_state=42)\n",
    "    model.fit(X_train, y_train)\n",
    "    \n",
    "    # Predict and evaluate\n",
    "    y_pred = model.predict(X_test)\n",
    "    accuracy = accuracy_score(y_test, y_pred)\n",
    "    print(f\"Innovative Model Accuracy: {accuracy:.2f}\")\n",
    "    print(\"\\nInnovative Classification Report:\")\n",
    "    print(classification_report(y_test, y_pred, target_names=['Not Satisfied', 'Satisfied'], zero_division=0))\n",
    "    y_pred_prob = model.predict_proba(X_test)[:, 1]\n",
    "    roc_auc = roc_auc_score(y_test, y_pred_prob)\n",
    "    print(f\"Innovative ROC-AUC Score: {roc_auc:.2f}\")\n",
    "    \n",
    "    # Save innovative predictions\n",
    "    df_test = X_test.copy()\n",
    "    df_test['actual'] = y_test\n",
    "    df_test['predicted'] = y_pred\n",
    "    df_test['probability'] = y_pred_prob\n",
    "    df_test.to_csv('data/model_predictions_innovative.csv', index=False)\n",
    "    print(\"Innovative model predictions saved to data/model_predictions_innovative.csv\")\n",
    "\n",
    "# Apply innovation\n",
    "innovate_model(df)"
   ]
  },
  {
   "cell_type": "code",
   "execution_count": 7,
   "id": "ca09c74d",
   "metadata": {},
   "outputs": [
    {
     "name": "stdout",
     "output_type": "stream",
     "text": [
      "Updated dataset with 'satisfied' saved to data/ratings_Books_cleaned_200K_updated.csv\n"
     ]
    }
   ],
   "source": [
    "import pandas as pd\n",
    "import os\n",
    "\n",
    "# Set working directory\n",
    "os.chdir(r'C:\\Users\\munez\\OneDrive\\Documents\\AUCA\\Big-Data\\Retail_Amazon_Project')\n",
    "\n",
    "# Load cleaned dataset\n",
    "file_path = 'data/ratings_Books_cleaned_200K.csv'\n",
    "df = pd.read_csv(file_path)\n",
    "\n",
    "# Add satisfied column\n",
    "df['satisfied'] = (df['rating'] >= 4).astype(int)\n",
    "\n",
    "# Save updated file\n",
    "df.to_csv('data/ratings_Books_cleaned_200K.csv', index=False)\n",
    "print(\"Updated dataset with 'satisfied' saved to data/ratings_Books_cleaned_200K_updated.csv\")"
   ]
  }
 ],
 "metadata": {
  "kernelspec": {
   "display_name": "Python 3",
   "language": "python",
   "name": "python3"
  },
  "language_info": {
   "codemirror_mode": {
    "name": "ipython",
    "version": 3
   },
   "file_extension": ".py",
   "mimetype": "text/x-python",
   "name": "python",
   "nbconvert_exporter": "python",
   "pygments_lexer": "ipython3",
   "version": "3.13.5"
  }
 },
 "nbformat": 4,
 "nbformat_minor": 5
}
